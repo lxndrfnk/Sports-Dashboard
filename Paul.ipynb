{
 "cells": [
  {
   "cell_type": "code",
   "execution_count": 3,
   "id": "9008930b",
   "metadata": {},
   "outputs": [],
   "source": [
    "a = 700000"
   ]
  },
  {
   "cell_type": "code",
   "execution_count": 7,
   "id": "d45362c2",
   "metadata": {},
   "outputs": [],
   "source": [
    "b = 300000"
   ]
  },
  {
   "cell_type": "code",
   "execution_count": 9,
   "id": "29489fa9",
   "metadata": {},
   "outputs": [
    {
     "data": {
      "text/plain": [
       "1000000"
      ]
     },
     "execution_count": 9,
     "metadata": {},
     "output_type": "execute_result"
    }
   ],
   "source": [
    "a + b"
   ]
  },
  {
   "cell_type": "code",
   "execution_count": 8,
   "id": "19ff3b02",
   "metadata": {},
   "outputs": [
    {
     "name": "stdout",
     "output_type": "stream",
     "text": [
      "700000\n",
      "300000\n",
      "1000000\n"
     ]
    }
   ],
   "source": [
    "print(a)\n",
    "print(b)\n",
    "print(a+b)"
   ]
  },
  {
   "cell_type": "code",
   "execution_count": 10,
   "id": "3bf5a3b0",
   "metadata": {},
   "outputs": [
    {
     "data": {
      "text/plain": [
       "int"
      ]
     },
     "execution_count": 10,
     "metadata": {},
     "output_type": "execute_result"
    }
   ],
   "source": [
    "type(a)"
   ]
  },
  {
   "cell_type": "code",
   "execution_count": 11,
   "id": "522860ea",
   "metadata": {},
   "outputs": [
    {
     "data": {
      "text/plain": [
       "float"
      ]
     },
     "execution_count": 11,
     "metadata": {},
     "output_type": "execute_result"
    }
   ],
   "source": [
    "c = 2.5\n",
    "type(c)"
   ]
  },
  {
   "cell_type": "code",
   "execution_count": 15,
   "id": "df7d9117",
   "metadata": {},
   "outputs": [
    {
     "data": {
      "text/plain": [
       "str"
      ]
     },
     "execution_count": 15,
     "metadata": {},
     "output_type": "execute_result"
    }
   ],
   "source": [
    "d = \"Paul\"\n",
    "type(d)"
   ]
  },
  {
   "cell_type": "code",
   "execution_count": 23,
   "id": "66fda93c",
   "metadata": {},
   "outputs": [
    {
     "data": {
      "text/plain": [
       "bool"
      ]
     },
     "execution_count": 23,
     "metadata": {},
     "output_type": "execute_result"
    }
   ],
   "source": [
    "e = False\n",
    "type(e)"
   ]
  },
  {
   "cell_type": "code",
   "execution_count": 18,
   "id": "d607785e",
   "metadata": {},
   "outputs": [
    {
     "data": {
      "text/plain": [
       "700002.5"
      ]
     },
     "execution_count": 18,
     "metadata": {},
     "output_type": "execute_result"
    }
   ],
   "source": [
    "a + c"
   ]
  },
  {
   "cell_type": "code",
   "execution_count": 19,
   "id": "e7b80362",
   "metadata": {},
   "outputs": [
    {
     "data": {
      "text/plain": [
       "float"
      ]
     },
     "execution_count": 19,
     "metadata": {},
     "output_type": "execute_result"
    }
   ],
   "source": [
    "type(a+c)"
   ]
  },
  {
   "cell_type": "code",
   "execution_count": 26,
   "id": "8e4859c6",
   "metadata": {},
   "outputs": [
    {
     "name": "stdout",
     "output_type": "stream",
     "text": [
      "Heute scheint die Sonne\n"
     ]
    }
   ],
   "source": [
    "if d == \"Alex\":\n",
    "    print(\"Heute ist Dienstag!\")\n",
    "else:\n",
    "    print(\"Heute scheint die Sonne!\")"
   ]
  },
  {
   "cell_type": "code",
   "execution_count": 27,
   "id": "1609560a",
   "metadata": {},
   "outputs": [
    {
     "name": "stdout",
     "output_type": "stream",
     "text": [
      "3\n",
      "5\n",
      "8\n"
     ]
    }
   ],
   "source": [
    "a = 3\n",
    "b = 5\n",
    "\n",
    "print(a)\n",
    "print(b)\n",
    "print(a+b)\n"
   ]
  },
  {
   "cell_type": "code",
   "execution_count": null,
   "id": "84cb7445",
   "metadata": {},
   "outputs": [
    {
     "name": "stdout",
     "output_type": "stream",
     "text": [
      "3\n",
      "7\n",
      "12\n",
      "7\n"
     ]
    }
   ],
   "source": [
    "preis = 3\n",
    "print(preis)\n",
    "\n",
    "preis = preis + 4 # preis = 7\n",
    "print(preis)\n",
    "\n",
    "print(preis + 5) # 7 + 5\n",
    "\n",
    "print(preis)\n"
   ]
  },
  {
   "cell_type": "code",
   "execution_count": 32,
   "id": "36ec6e35",
   "metadata": {},
   "outputs": [
    {
     "name": "stdout",
     "output_type": "stream",
     "text": [
      "-12\n",
      "3\n",
      "5\n"
     ]
    }
   ],
   "source": [
    "a = 3 # a = 3\n",
    "b = 2 # a = 3; b = 2\n",
    "c = a + b # a = 3; b = 2; c = 5\n",
    "b = a # a = 3; b = 3; c = 5\n",
    "a = a - b * c # a = -12; b = 3; c = 5\n",
    "\n",
    "print(a)\n",
    "print(b)\n",
    "print(c)\n"
   ]
  },
  {
   "cell_type": "code",
   "execution_count": 33,
   "id": "d07ecc9f",
   "metadata": {},
   "outputs": [
    {
     "name": "stdout",
     "output_type": "stream",
     "text": [
      "2\n"
     ]
    }
   ],
   "source": [
    "_ = 2\n",
    "print(_)"
   ]
  },
  {
   "cell_type": "code",
   "execution_count": 34,
   "id": "31acdd30",
   "metadata": {},
   "outputs": [
    {
     "name": "stdout",
     "output_type": "stream",
     "text": [
      "2\n"
     ]
    }
   ],
   "source": [
    "__init__ = 2\n",
    "print(__init__)"
   ]
  },
  {
   "cell_type": "code",
   "execution_count": 35,
   "id": "088d0dc3",
   "metadata": {},
   "outputs": [
    {
     "name": "stdout",
     "output_type": "stream",
     "text": [
      "5\n",
      "10\n"
     ]
    }
   ],
   "source": [
    "preis_a = 10\n",
    "preis_b = 5\n",
    "\n",
    "preis_a = 5\n",
    "preis_b = 10\n",
    "\n",
    "print(preis_a) # 5\n",
    "print(preis_b) # 10\n"
   ]
  },
  {
   "cell_type": "code",
   "execution_count": 37,
   "id": "e55749c9",
   "metadata": {},
   "outputs": [
    {
     "name": "stdout",
     "output_type": "stream",
     "text": [
      "12.16\n"
     ]
    }
   ],
   "source": [
    "gewicht = 32\n",
    "mars_faktor = 0.38\n",
    "\n",
    "mars_gewicht = gewicht * mars_faktor\n",
    "\n",
    "print(mars_gewicht)"
   ]
  },
  {
   "cell_type": "code",
   "execution_count": null,
   "id": "17f292b3",
   "metadata": {},
   "outputs": [],
   "source": [
    "preis = 15\n",
    "alter = 10\n",
    "name = \"Hans\"\n",
    "schwester = \"Laura\"\n",
    "verheiratet = False\n"
   ]
  },
  {
   "cell_type": "code",
   "execution_count": null,
   "id": "bdeee5bf",
   "metadata": {},
   "outputs": [],
   "source": [
    "preis = 15\n",
    "alter = 10\n",
    "name = \"Hans\"\n",
    "schwester = \"Laura\"\n",
    "verheiratet = False\n"
   ]
  },
  {
   "cell_type": "code",
   "execution_count": null,
   "id": "12d1f20f",
   "metadata": {},
   "outputs": [],
   "source": [
    "preis = 15\n",
    "alter = 10\n",
    "name = \"Hans\"\n",
    "schwester = \"Laura\"\n",
    "verheiratet = False\n"
   ]
  },
  {
   "cell_type": "code",
   "execution_count": null,
   "id": "cc3a5dd7",
   "metadata": {},
   "outputs": [],
   "source": [
    "preis=15\n",
    "alter=10\n",
    "name = \"Hans\"\n",
    "schwester = \"Laura\"\n",
    "verheiratet = False\n"
   ]
  },
  {
   "cell_type": "code",
   "execution_count": null,
   "id": "2a25d1aa",
   "metadata": {},
   "outputs": [],
   "source": [
    "preis = 15\n",
    "alter = 10\n",
    "name = \"Hans\"\n",
    "schwester = \"Laura\"\n",
    "verheiratet = False\n"
   ]
  },
  {
   "cell_type": "code",
   "execution_count": null,
   "id": "86b17f68",
   "metadata": {},
   "outputs": [],
   "source": [
    "preis = 10\n",
    "alter = preis\n",
    "name = \"Hans\"\n",
    "schwester = \"Laura\"\n",
    "verheiratet = False\n"
   ]
  },
  {
   "cell_type": "code",
   "execution_count": 38,
   "id": "7eb25c58",
   "metadata": {},
   "outputs": [
    {
     "data": {
      "text/plain": [
       "int"
      ]
     },
     "execution_count": 38,
     "metadata": {},
     "output_type": "execute_result"
    }
   ],
   "source": [
    "type(-2500)"
   ]
  },
  {
   "cell_type": "code",
   "execution_count": 39,
   "id": "ed1244d9",
   "metadata": {},
   "outputs": [
    {
     "data": {
      "text/plain": [
       "float"
      ]
     },
     "execution_count": 39,
     "metadata": {},
     "output_type": "execute_result"
    }
   ],
   "source": [
    "type(1 + 0.3)"
   ]
  },
  {
   "cell_type": "code",
   "execution_count": 40,
   "id": "27ad6975",
   "metadata": {},
   "outputs": [
    {
     "data": {
      "text/plain": [
       "float"
      ]
     },
     "execution_count": 40,
     "metadata": {},
     "output_type": "execute_result"
    }
   ],
   "source": [
    "type(1.3 - 0.3)"
   ]
  },
  {
   "cell_type": "code",
   "execution_count": 41,
   "id": "b1ec2ba4",
   "metadata": {},
   "outputs": [
    {
     "data": {
      "text/plain": [
       "float"
      ]
     },
     "execution_count": 41,
     "metadata": {},
     "output_type": "execute_result"
    }
   ],
   "source": [
    "type(4 / 3)"
   ]
  },
  {
   "cell_type": "code",
   "execution_count": 42,
   "id": "d21af89d",
   "metadata": {},
   "outputs": [
    {
     "data": {
      "text/plain": [
       "float"
      ]
     },
     "execution_count": 42,
     "metadata": {},
     "output_type": "execute_result"
    }
   ],
   "source": [
    "type(4 / 2)"
   ]
  },
  {
   "cell_type": "code",
   "execution_count": null,
   "id": "06c7acf5",
   "metadata": {},
   "outputs": [
    {
     "data": {
      "text/plain": [
       "float"
      ]
     },
     "execution_count": 43,
     "metadata": {},
     "output_type": "execute_result"
    }
   ],
   "source": [
    "type(2 + 4 + 2.0)"
   ]
  },
  {
   "cell_type": "code",
   "execution_count": 44,
   "id": "7c127c5a",
   "metadata": {},
   "outputs": [
    {
     "data": {
      "text/plain": [
       "int"
      ]
     },
     "execution_count": 44,
     "metadata": {},
     "output_type": "execute_result"
    }
   ],
   "source": [
    "type(10 * 10)"
   ]
  },
  {
   "cell_type": "code",
   "execution_count": 46,
   "id": "39f58466",
   "metadata": {},
   "outputs": [
    {
     "data": {
      "text/plain": [
       "str"
      ]
     },
     "execution_count": 46,
     "metadata": {},
     "output_type": "execute_result"
    }
   ],
   "source": [
    "type(\"Ich bin ein Satz. 242526\")"
   ]
  },
  {
   "cell_type": "code",
   "execution_count": 47,
   "id": "7196e37f",
   "metadata": {},
   "outputs": [
    {
     "data": {
      "text/plain": [
       "str"
      ]
     },
     "execution_count": 47,
     "metadata": {},
     "output_type": "execute_result"
    }
   ],
   "source": [
    "type(\" \")"
   ]
  },
  {
   "cell_type": "code",
   "execution_count": 48,
   "id": "f93aebf5",
   "metadata": {},
   "outputs": [
    {
     "data": {
      "text/plain": [
       "str"
      ]
     },
     "execution_count": 48,
     "metadata": {},
     "output_type": "execute_result"
    }
   ],
   "source": [
    "type(\"\")"
   ]
  },
  {
   "cell_type": "code",
   "execution_count": 49,
   "id": "e81c1994",
   "metadata": {},
   "outputs": [
    {
     "data": {
      "text/plain": [
       "bool"
      ]
     },
     "execution_count": 49,
     "metadata": {},
     "output_type": "execute_result"
    }
   ],
   "source": [
    "type(15 > 10)"
   ]
  },
  {
   "cell_type": "code",
   "execution_count": 51,
   "id": "70057bf9",
   "metadata": {},
   "outputs": [
    {
     "name": "stdout",
     "output_type": "stream",
     "text": [
      "False\n"
     ]
    }
   ],
   "source": [
    "type(15 < 10)\n",
    "print(15 < 10)"
   ]
  }
 ],
 "metadata": {
  "kernelspec": {
   "display_name": "Python 3",
   "language": "python",
   "name": "python3"
  },
  "language_info": {
   "codemirror_mode": {
    "name": "ipython",
    "version": 3
   },
   "file_extension": ".py",
   "mimetype": "text/x-python",
   "name": "python",
   "nbconvert_exporter": "python",
   "pygments_lexer": "ipython3",
   "version": "3.13.3"
  }
 },
 "nbformat": 4,
 "nbformat_minor": 5
}
